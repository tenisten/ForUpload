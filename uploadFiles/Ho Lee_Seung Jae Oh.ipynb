{
 "cells": [
  {
   "cell_type": "code",
   "execution_count": 1,
   "metadata": {},
   "outputs": [],
   "source": [
    "import numpy as np\n",
    "import pandas as pd\n",
    "from tabulate import tabulate\n",
    "from math import sqrt, exp\n",
    "from scipy.optimize import minimize"
   ]
  },
  {
   "cell_type": "code",
   "execution_count": 2,
   "metadata": {},
   "outputs": [],
   "source": [
    "r0 = 0.0008588\n",
    "dt = 1/12\n",
    "vol = 0.008007\n",
    "mu = [0., 0,0]\n",
    "T =3\n",
    "a = [0.999804602425927,0.999657067401416]"
   ]
  },
  {
   "cell_type": "code",
   "execution_count": 3,
   "metadata": {},
   "outputs": [
    {
     "name": "stdout",
     "output_type": "stream",
     "text": [
      "---------  -----------  -----------\n",
      "0           0            0.00548164\n",
      "0           0.00317022   0.0008588\n",
      "0.0008588  -0.00145262  -0.00376404\n",
      "---------  -----------  -----------\n"
     ]
    }
   ],
   "source": [
    "def r_tree(mu_,r0_,vol,dt):\n",
    "  T = len(mu_)\n",
    "  rates_ = np.zeros((T,T))\n",
    "  for j in range(0,T):\n",
    "    for i in range(j,T):\n",
    "      if (i==0) and (j==0):\n",
    "        rates_[T-1,i] = r0_ \n",
    "      elif (i > 0) and (j==0): \n",
    "        rates_[T-1,i] = rates_[T-1,i-1] + mu_[i]*dt - vol*sqrt(dt) \n",
    "      else:\n",
    "        rates_[T-1-j,i] = rates_[T-1,i] + 2.*j*vol*sqrt(dt) \n",
    "    \n",
    "  return(rates_)\n",
    "\n",
    "print(tabulate(r_tree(mu,r0,vol,dt)))"
   ]
  },
  {
   "cell_type": "code",
   "execution_count": 4,
   "metadata": {},
   "outputs": [
    {
     "name": "stdout",
     "output_type": "stream",
     "text": [
      "--------  --------  --------\n",
      "0         0         0.999543\n",
      "0         0.999472  0.999928\n",
      "0.999785  1.00024   1.00031\n",
      "--------  --------  --------\n"
     ]
    }
   ],
   "source": [
    "r_tr = r_tree(mu[:T],r0,vol,dt)\n",
    "def bondf(r_tr,dt):\n",
    "  T = r_tr.shape[0]\n",
    "  zcb_tr = np.zeros((T,T))\n",
    "  for i in range(0,T):\n",
    "    for j in range(i,T):\n",
    "      if i == 0:\n",
    "        zcb_tr[j,T-1-i] = 1*exp(-r_tr[j,T-1-i]*dt)\n",
    "      else:\n",
    "        zcb_tr[j,T-1-i] = .5*(zcb_tr[j,T-i] + zcb_tr[j-1,T-i]) \\\n",
    "                            *exp(-r_tr[j,T-1-i]*dt)\n",
    "\n",
    "  return zcb_tr\n",
    "\n",
    "print(tabulate(bondf(r_tr,dt)))"
   ]
  },
  {
   "cell_type": "code",
   "execution_count": 5,
   "metadata": {},
   "outputs": [],
   "source": [
    "def bond_err(mu_,a_,param,m_old_):\n",
    "  r0,vol,dt = param[0],param[1],param[2]\n",
    "  T = len(m_old_)+1\n",
    "  r_tr = r_tree(m_old_.__add__([mu_]),r0,vol,dt)\n",
    "  b_tr = bondf(r_tr,dt)\n",
    "  return (a_[T-2] - b_tr[T-1,0])**2 "
   ]
  },
  {
   "cell_type": "code",
   "execution_count": 6,
   "metadata": {},
   "outputs": [
    {
     "name": "stdout",
     "output_type": "stream",
     "text": [
      "[0.0, 0.0]\n",
      "---------  -----------\n",
      "0           0.00317022\n",
      "0.0008588  -0.00145262\n",
      "---------  -----------\n",
      "--------  --------\n",
      "0         0.999736\n",
      "0.999857  1.00012\n",
      "--------  --------\n",
      "[0.0, 0.0, 0.0]\n",
      "---------  -----------  -----------\n",
      "0           0            0.00548164\n",
      "0           0.00317022   0.0008588\n",
      "0.0008588  -0.00145262  -0.00376404\n",
      "---------  -----------  -----------\n",
      "--------  --------  --------\n",
      "0         0         0.999543\n",
      "0         0.999472  0.999928\n",
      "0.999785  1.00024   1.00031\n",
      "--------  --------  --------\n"
     ]
    }
   ],
   "source": [
    "data_set = pd.read_csv('DF.csv',header = None)\n",
    "a_bond = np.squeeze(np.array(data_set.values))\n",
    "T = 2\n",
    "params = [r0,vol,dt]\n",
    "m_old = [0.]\n",
    "for i in range(T):\n",
    "  temp = minimize(bond_err,m_old[-1], \\\n",
    "                  args=(a_bond,params,m_old),method=\"L-BFGS-B\")\n",
    "  m_old = m_old.__add__([temp.x[0]])\n",
    "  r_tree_temp = r_tree(m_old,r0,vol,dt)\n",
    "  print(m_old)\n",
    "  print(tabulate(r_tree_temp))\n",
    "  print(tabulate(bondf(r_tree_temp,dt)))"
   ]
  },
  {
   "cell_type": "code",
   "execution_count": null,
   "metadata": {},
   "outputs": [],
   "source": []
  }
 ],
 "metadata": {
  "kernelspec": {
   "display_name": "Python 3",
   "language": "python",
   "name": "python3"
  },
  "language_info": {
   "codemirror_mode": {
    "name": "ipython",
    "version": 3
   },
   "file_extension": ".py",
   "mimetype": "text/x-python",
   "name": "python",
   "nbconvert_exporter": "python",
   "pygments_lexer": "ipython3",
   "version": "3.8.3"
  }
 },
 "nbformat": 4,
 "nbformat_minor": 4
}
